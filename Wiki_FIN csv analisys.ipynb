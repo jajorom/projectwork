{
 "cells": [
  {
   "cell_type": "code",
   "execution_count": 2,
   "id": "138c44c7",
   "metadata": {},
   "outputs": [
    {
     "data": {
      "text/html": [
       "<div>\n",
       "<style scoped>\n",
       "    .dataframe tbody tr th:only-of-type {\n",
       "        vertical-align: middle;\n",
       "    }\n",
       "\n",
       "    .dataframe tbody tr th {\n",
       "        vertical-align: top;\n",
       "    }\n",
       "\n",
       "    .dataframe thead th {\n",
       "        text-align: right;\n",
       "    }\n",
       "</style>\n",
       "<table border=\"1\" class=\"dataframe\">\n",
       "  <thead>\n",
       "    <tr style=\"text-align: right;\">\n",
       "      <th></th>\n",
       "      <th>Rank</th>\n",
       "      <th>Forbes 2000 rank</th>\n",
       "      <th>Name</th>\n",
       "      <th>Headquarters</th>\n",
       "      <th>Revenue(billions US$)</th>\n",
       "      <th>Profit(billions US$)</th>\n",
       "      <th>Assets(billions US$)</th>\n",
       "      <th>Value(billions US$)</th>\n",
       "      <th>Industry</th>\n",
       "    </tr>\n",
       "  </thead>\n",
       "  <tbody>\n",
       "    <tr>\n",
       "      <th>0</th>\n",
       "      <td>1</td>\n",
       "      <td>224</td>\n",
       "      <td>Nordea</td>\n",
       "      <td>Helsinki</td>\n",
       "      <td>12.7</td>\n",
       "      <td>2.5</td>\n",
       "      <td>676.1</td>\n",
       "      <td>42.0</td>\n",
       "      <td>Finance</td>\n",
       "    </tr>\n",
       "    <tr>\n",
       "      <th>1</th>\n",
       "      <td>2</td>\n",
       "      <td>244</td>\n",
       "      <td>Fortum</td>\n",
       "      <td>Espoo</td>\n",
       "      <td>55.9</td>\n",
       "      <td>2.1</td>\n",
       "      <td>70.7</td>\n",
       "      <td>24.0</td>\n",
       "      <td>Electricity</td>\n",
       "    </tr>\n",
       "    <tr>\n",
       "      <th>2</th>\n",
       "      <td>3</td>\n",
       "      <td>712</td>\n",
       "      <td>Nokia</td>\n",
       "      <td>Espoo</td>\n",
       "      <td>24.9</td>\n",
       "      <td>−2.8</td>\n",
       "      <td>46.5</td>\n",
       "      <td>23.7</td>\n",
       "      <td>Technology</td>\n",
       "    </tr>\n",
       "    <tr>\n",
       "      <th>3</th>\n",
       "      <td>4</td>\n",
       "      <td>713</td>\n",
       "      <td>Kone</td>\n",
       "      <td>Helsinki</td>\n",
       "      <td>11.3</td>\n",
       "      <td>1.1</td>\n",
       "      <td>10.8</td>\n",
       "      <td>44.6</td>\n",
       "      <td>Industrials</td>\n",
       "    </tr>\n",
       "    <tr>\n",
       "      <th>4</th>\n",
       "      <td>5</td>\n",
       "      <td>716</td>\n",
       "      <td>Neste</td>\n",
       "      <td>Espoo</td>\n",
       "      <td>13.4</td>\n",
       "      <td>0.8</td>\n",
       "      <td>12.0</td>\n",
       "      <td>45.7</td>\n",
       "      <td>Oil and gas</td>\n",
       "    </tr>\n",
       "    <tr>\n",
       "      <th>5</th>\n",
       "      <td>6</td>\n",
       "      <td>764</td>\n",
       "      <td>Sampo Group</td>\n",
       "      <td>Helsinki</td>\n",
       "      <td>11.0</td>\n",
       "      <td>0.0</td>\n",
       "      <td>66.9</td>\n",
       "      <td>27.1</td>\n",
       "      <td>Finance</td>\n",
       "    </tr>\n",
       "    <tr>\n",
       "      <th>6</th>\n",
       "      <td>7</td>\n",
       "      <td>836</td>\n",
       "      <td>Stora Enso</td>\n",
       "      <td>Helsinki</td>\n",
       "      <td>9.8</td>\n",
       "      <td>0.7</td>\n",
       "      <td>21.3</td>\n",
       "      <td>15.8</td>\n",
       "      <td>Pulp and paper</td>\n",
       "    </tr>\n",
       "    <tr>\n",
       "      <th>7</th>\n",
       "      <td>8</td>\n",
       "      <td>837</td>\n",
       "      <td>UPM</td>\n",
       "      <td>Helsinki</td>\n",
       "      <td>9.8</td>\n",
       "      <td>0.6</td>\n",
       "      <td>18.2</td>\n",
       "      <td>20.6</td>\n",
       "      <td>Pulp and paper</td>\n",
       "    </tr>\n",
       "    <tr>\n",
       "      <th>8</th>\n",
       "      <td>9</td>\n",
       "      <td>1224</td>\n",
       "      <td>Kesko</td>\n",
       "      <td>Helsinki</td>\n",
       "      <td>12.2</td>\n",
       "      <td>0.5</td>\n",
       "      <td>8.1</td>\n",
       "      <td>12.2</td>\n",
       "      <td>Retail</td>\n",
       "    </tr>\n",
       "  </tbody>\n",
       "</table>\n",
       "</div>"
      ],
      "text/plain": [
       "   Rank  Forbes 2000 rank         Name Headquarters  Revenue(billions US$)  \\\n",
       "0     1               224       Nordea     Helsinki                   12.7   \n",
       "1     2               244       Fortum        Espoo                   55.9   \n",
       "2     3               712        Nokia        Espoo                   24.9   \n",
       "3     4               713         Kone     Helsinki                   11.3   \n",
       "4     5               716        Neste        Espoo                   13.4   \n",
       "5     6               764  Sampo Group     Helsinki                   11.0   \n",
       "6     7               836   Stora Enso     Helsinki                    9.8   \n",
       "7     8               837          UPM     Helsinki                    9.8   \n",
       "8     9              1224        Kesko     Helsinki                   12.2   \n",
       "\n",
       "  Profit(billions US$)  Assets(billions US$)  Value(billions US$)  \\\n",
       "0                  2.5                 676.1                 42.0   \n",
       "1                  2.1                  70.7                 24.0   \n",
       "2                 −2.8                  46.5                 23.7   \n",
       "3                  1.1                  10.8                 44.6   \n",
       "4                  0.8                  12.0                 45.7   \n",
       "5                  0.0                  66.9                 27.1   \n",
       "6                  0.7                  21.3                 15.8   \n",
       "7                  0.6                  18.2                 20.6   \n",
       "8                  0.5                   8.1                 12.2   \n",
       "\n",
       "         Industry  \n",
       "0         Finance  \n",
       "1     Electricity  \n",
       "2      Technology  \n",
       "3     Industrials  \n",
       "4     Oil and gas  \n",
       "5         Finance  \n",
       "6  Pulp and paper  \n",
       "7  Pulp and paper  \n",
       "8          Retail  "
      ]
     },
     "execution_count": 2,
     "metadata": {},
     "output_type": "execute_result"
    }
   ],
   "source": [
    "import numpy as np\n",
    "import pandas as pd\n",
    "import matplotlib.pyplot as plt\n",
    "\n",
    "\n",
    "df = pd.read_csv('wikiFIN_data.csv')\n",
    "df"
   ]
  },
  {
   "cell_type": "code",
   "execution_count": 17,
   "id": "865b19d6",
   "metadata": {},
   "outputs": [
    {
     "data": {
      "image/png": "[encoded data removed]",
      "text/plain": [
       "<Figure size 640x480 with 1 Axes>"
      ]
     },
     "metadata": {},
     "output_type": "display_data"
    }
   ],
   "source": [
    "df.plot(kind='scatter',x = 'Revenue(billions US$)', y = 'Assets(billions US$)')\n",
    "plt.xlabel('Revenue')\n",
    "plt.ylabel('Assets')\n",
    "plt.show()"
   ]
  },
  {
   "cell_type": "code",
   "execution_count": 3,
   "id": "10a9e9b3",
   "metadata": {},
   "outputs": [
    {
     "data": {
      "text/html": [
       "<div>\n",
       "<style scoped>\n",
       "    .dataframe tbody tr th:only-of-type {\n",
       "        vertical-align: middle;\n",
       "    }\n",
       "\n",
       "    .dataframe tbody tr th {\n",
       "        vertical-align: top;\n",
       "    }\n",
       "\n",
       "    .dataframe thead th {\n",
       "        text-align: right;\n",
       "    }\n",
       "</style>\n",
       "<table border=\"1\" class=\"dataframe\">\n",
       "  <thead>\n",
       "    <tr style=\"text-align: right;\">\n",
       "      <th></th>\n",
       "      <th>Rank</th>\n",
       "      <th>Forbes 2000 rank</th>\n",
       "      <th>Revenue(billions US$)</th>\n",
       "      <th>Assets(billions US$)</th>\n",
       "      <th>Value(billions US$)</th>\n",
       "    </tr>\n",
       "  </thead>\n",
       "  <tbody>\n",
       "    <tr>\n",
       "      <th>count</th>\n",
       "      <td>9.000000</td>\n",
       "      <td>9.000000</td>\n",
       "      <td>9.000000</td>\n",
       "      <td>9.000000</td>\n",
       "      <td>9.000000</td>\n",
       "    </tr>\n",
       "    <tr>\n",
       "      <th>mean</th>\n",
       "      <td>5.000000</td>\n",
       "      <td>696.666667</td>\n",
       "      <td>17.888889</td>\n",
       "      <td>103.400000</td>\n",
       "      <td>28.411111</td>\n",
       "    </tr>\n",
       "    <tr>\n",
       "      <th>std</th>\n",
       "      <td>2.738613</td>\n",
       "      <td>306.373547</td>\n",
       "      <td>14.979857</td>\n",
       "      <td>216.111863</td>\n",
       "      <td>12.608870</td>\n",
       "    </tr>\n",
       "    <tr>\n",
       "      <th>min</th>\n",
       "      <td>1.000000</td>\n",
       "      <td>224.000000</td>\n",
       "      <td>9.800000</td>\n",
       "      <td>8.100000</td>\n",
       "      <td>12.200000</td>\n",
       "    </tr>\n",
       "    <tr>\n",
       "      <th>25%</th>\n",
       "      <td>3.000000</td>\n",
       "      <td>712.000000</td>\n",
       "      <td>11.000000</td>\n",
       "      <td>12.000000</td>\n",
       "      <td>20.600000</td>\n",
       "    </tr>\n",
       "    <tr>\n",
       "      <th>50%</th>\n",
       "      <td>5.000000</td>\n",
       "      <td>716.000000</td>\n",
       "      <td>12.200000</td>\n",
       "      <td>21.300000</td>\n",
       "      <td>24.000000</td>\n",
       "    </tr>\n",
       "    <tr>\n",
       "      <th>75%</th>\n",
       "      <td>7.000000</td>\n",
       "      <td>836.000000</td>\n",
       "      <td>13.400000</td>\n",
       "      <td>66.900000</td>\n",
       "      <td>42.000000</td>\n",
       "    </tr>\n",
       "    <tr>\n",
       "      <th>max</th>\n",
       "      <td>9.000000</td>\n",
       "      <td>1224.000000</td>\n",
       "      <td>55.900000</td>\n",
       "      <td>676.100000</td>\n",
       "      <td>45.700000</td>\n",
       "    </tr>\n",
       "  </tbody>\n",
       "</table>\n",
       "</div>"
      ],
      "text/plain": [
       "           Rank  Forbes 2000 rank  Revenue(billions US$)  \\\n",
       "count  9.000000          9.000000               9.000000   \n",
       "mean   5.000000        696.666667              17.888889   \n",
       "std    2.738613        306.373547              14.979857   \n",
       "min    1.000000        224.000000               9.800000   \n",
       "25%    3.000000        712.000000              11.000000   \n",
       "50%    5.000000        716.000000              12.200000   \n",
       "75%    7.000000        836.000000              13.400000   \n",
       "max    9.000000       1224.000000              55.900000   \n",
       "\n",
       "       Assets(billions US$)  Value(billions US$)  \n",
       "count              9.000000             9.000000  \n",
       "mean             103.400000            28.411111  \n",
       "std              216.111863            12.608870  \n",
       "min                8.100000            12.200000  \n",
       "25%               12.000000            20.600000  \n",
       "50%               21.300000            24.000000  \n",
       "75%               66.900000            42.000000  \n",
       "max              676.100000            45.700000  "
      ]
     },
     "execution_count": 3,
     "metadata": {},
     "output_type": "execute_result"
    }
   ],
   "source": [
    "df.describe()"
   ]
  },
  {
   "cell_type": "code",
   "execution_count": 13,
   "id": "7519e006",
   "metadata": {},
   "outputs": [
    {
     "data": {
      "text/plain": [
       "<Axes: xlabel='Name'>"
      ]
     },
     "execution_count": 13,
     "metadata": {},
     "output_type": "execute_result"
    },
    {
     "data": {
      "image/png": "[encoded data removed]",
      "text/plain": [
       "<Figure size 640x480 with 1 Axes>"
      ]
     },
     "metadata": {},
     "output_type": "display_data"
    }
   ],
   "source": [
    "# Bar chart\n",
    "df.plot.bar('Name','Assets(billions US$)')"
   ]
  },
  {
   "cell_type": "code",
   "execution_count": 14,
   "id": "8c2e2af1",
   "metadata": {},
   "outputs": [
    {
     "data": {
      "text/plain": [
       "<Axes: xlabel='Name'>"
      ]
     },
     "execution_count": 14,
     "metadata": {},
     "output_type": "execute_result"
    },
    {
     "data": {
      "image/png": "[encoded data removed]",
      "text/plain": [
       "<Figure size 640x480 with 1 Axes>"
      ]
     },
     "metadata": {},
     "output_type": "display_data"
    }
   ],
   "source": [
    "df.plot.bar('Name','Value(billions US$)')"
   ]
  },
  {
   "cell_type": "code",
   "execution_count": null,
   "id": "121164d9",
   "metadata": {},
   "outputs": [],
   "source": []
  }
 ],
 "metadata": {
  "kernelspec": {
   "display_name": "Python 3 (ipykernel)",
   "language": "python",
   "name": "python3"
  },
  "language_info": {
   "codemirror_mode": {
    "name": "ipython",
    "version": 3
   },
   "file_extension": ".py",
   "mimetype": "text/x-python",
   "name": "python",
   "nbconvert_exporter": "python",
   "pygments_lexer": "ipython3",
   "version": "3.10.9"
  }
 },
 "nbformat": 4,
 "nbformat_minor": 5
}
